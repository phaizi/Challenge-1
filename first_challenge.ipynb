{
 "cells": [
  {
   "cell_type": "code",
   "execution_count": 9,
   "metadata": {},
   "outputs": [],
   "source": [
    "def miss(lst):\n",
    "    if lst[0] == lst[0].lower():\n",
    "        alph = \"abcdefghijklmnopqrstuvwxyz\"\n",
    "    else:\n",
    "        alph = \"ABCDEFGHIJKLMNOPQRSTUVWXYZ\"\n",
    "    found = 0\n",
    "    for i in alph:\n",
    "        if i in lst:\n",
    "            found = 1\n",
    "        elif found == 1:\n",
    "            print(i, \"is the missing letter\")\n",
    "            break"
   ]
  },
  {
   "cell_type": "code",
   "execution_count": 10,
   "metadata": {},
   "outputs": [
    {
     "name": "stdout",
     "output_type": "stream",
     "text": [
      "M is the missing letter\n"
     ]
    }
   ],
   "source": [
    "a = ['J','K','L','N','O','P']\n",
    "miss(a)"
   ]
  },
  {
   "cell_type": "code",
   "execution_count": 11,
   "metadata": {},
   "outputs": [
    {
     "name": "stdout",
     "output_type": "stream",
     "text": [
      "n is the missing letter\n"
     ]
    }
   ],
   "source": [
    "a=['j','k','l','m','o','p']\n",
    "miss(a)"
   ]
  },
  {
   "cell_type": "code",
   "execution_count": null,
   "metadata": {},
   "outputs": [],
   "source": []
  }
 ],
 "metadata": {
  "kernelspec": {
   "display_name": "Python 3",
   "language": "python",
   "name": "python3"
  },
  "language_info": {
   "codemirror_mode": {
    "name": "ipython",
    "version": 3
   },
   "file_extension": ".py",
   "mimetype": "text/x-python",
   "name": "python",
   "nbconvert_exporter": "python",
   "pygments_lexer": "ipython3",
   "version": "3.6.7"
  }
 },
 "nbformat": 4,
 "nbformat_minor": 2
}
